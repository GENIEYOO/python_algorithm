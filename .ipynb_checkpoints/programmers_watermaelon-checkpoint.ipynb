{
 "cells": [
  {
   "cell_type": "code",
   "execution_count": 36,
   "metadata": {},
   "outputs": [
    {
     "name": "stdout",
     "output_type": "stream",
     "text": [
      "수박수박수박수박\n"
     ]
    }
   ],
   "source": [
    "#수박수박수박 뽑아내기\n",
    "# 길이가 n이고, 수박수박수...와 같은 패턴을 유지하는 문자열을 리턴하도록 함수를 완성하세요.\n",
    "\n",
    "def water_melon(n):\n",
    "    string = [ ]\n",
    "    for i in range(1,n+1):\n",
    "        if i%2==1:\n",
    "            string.append(\"수\")\n",
    "        else:\n",
    "            string.append(\"박\")\n",
    "    # 함수를 완성하세요.\n",
    "    return  \"\".join(string)\n",
    "\n",
    "\n",
    "print water_melon(8)"
   ]
  },
  {
   "cell_type": "markdown",
   "metadata": {
    "collapsed": true
   },
   "source": [
    "다른풀이!"
   ]
  },
  {
   "cell_type": "code",
   "execution_count": 1,
   "metadata": {
    "collapsed": true
   },
   "outputs": [],
   "source": [
    "def water_melon(n):\n",
    "    a = \"\"\n",
    "    for i in range (n):\n",
    "        if i%2 == 0:\n",
    "            a = a + \"수\"  \n",
    "        else:\n",
    "            a = a + \"박\"\n",
    "    return a"
   ]
  },
  {
   "cell_type": "code",
   "execution_count": 3,
   "metadata": {
    "collapsed": true
   },
   "outputs": [],
   "source": [
    "def water_melon(n):\n",
    "    s = \"수박\" * n\n",
    "    #뒤에 짤리지 않게끔만 수박수박수박이를 만들어주는 로직\n",
    "    return s[:n]"
   ]
  },
  {
   "cell_type": "code",
   "execution_count": 1,
   "metadata": {
    "collapsed": true
   },
   "outputs": [],
   "source": [
    "# def rm_small(mylist):\n",
    "#     # 함수를 완성하세요\n",
    "#     if mylist:\n",
    "#         mylist.sort()\n",
    "#         mylist=mylist[1:]\n",
    "#         return mylist\n",
    "#     else:\n",
    "#         return mylist\n",
    "#왜 틀렸을까?\n",
    "#sort를 하면 순서대로 출력되니까 틀렸지 결과를 잘 확인해보고 할 것"
   ]
  }
 ],
 "metadata": {
  "kernelspec": {
   "display_name": "Python 2",
   "language": "python",
   "name": "python2"
  },
  "language_info": {
   "codemirror_mode": {
    "name": "ipython",
    "version": 2
   },
   "file_extension": ".py",
   "mimetype": "text/x-python",
   "name": "python",
   "nbconvert_exporter": "python",
   "pygments_lexer": "ipython2",
   "version": "2.7.14"
  }
 },
 "nbformat": 4,
 "nbformat_minor": 2
}
