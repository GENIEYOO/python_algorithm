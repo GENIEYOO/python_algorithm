{
 "cells": [
  {
   "cell_type": "markdown",
   "metadata": {},
   "source": [
    "최대공약수 구하기"
   ]
  },
  {
   "cell_type": "code",
   "execution_count": 6,
   "metadata": {
    "collapsed": true
   },
   "outputs": [],
   "source": [
    "def gcd(a,b):\n",
    "    mod=a%b\n",
    "    while mod >0:\n",
    "        a, b= b, mod\n",
    "        mod = a%b\n",
    "    return b"
   ]
  },
  {
   "cell_type": "markdown",
   "metadata": {},
   "source": [
    "a mod b = 0 이라면, gcd(a, b) = b 임이 성립."
   ]
  },
  {
   "cell_type": "markdown",
   "metadata": {},
   "source": [
    "a mod b !=0 이라면, gcd(a,b) = gcd(b, a and b)임이 성립한다.\n",
    "a와 b의 최대공약수는 b와 a를 b로 나눈 나머지의 최대공약수와 일치한다.\n",
    "유클리드 호제법.https://opentutorials.org/course/1685/9533"
   ]
  },
  {
   "cell_type": "code",
   "execution_count": 7,
   "metadata": {
    "collapsed": true
   },
   "outputs": [],
   "source": [
    "def lcm(a, b):\n",
    "    return a*b//gcd(a,b)"
   ]
  },
  {
   "cell_type": "markdown",
   "metadata": {},
   "source": [
    "최대공배수는 두 수의 곱을 최대공약수로 나눈 것"
   ]
  },
  {
   "cell_type": "markdown",
   "metadata": {},
   "source": []
  }
 ],
 "metadata": {
  "kernelspec": {
   "display_name": "Python 2",
   "language": "python",
   "name": "python2"
  },
  "language_info": {
   "codemirror_mode": {
    "name": "ipython",
    "version": 2
   },
   "file_extension": ".py",
   "mimetype": "text/x-python",
   "name": "python",
   "nbconvert_exporter": "python",
   "pygments_lexer": "ipython2",
   "version": "2.7.14"
  }
 },
 "nbformat": 4,
 "nbformat_minor": 2
}
