{
 "cells": [
  {
   "cell_type": "code",
   "execution_count": 13,
   "metadata": {},
   "outputs": [
    {
     "name": "stdout",
     "output_type": "stream",
     "text": [
      "['A', 'B', 'C', 'D', 'E', 'F', 'G', 'H', 'I', 'J', 'K', 'L', 'M', 'N', 'O', 'P', 'Q', 'R', 'S', 'T', 'U', 'V', 'X', 'Y', 'Z', 'W']\n",
      "['a', 'b', 'c', 'd', 'e', 'f', 'g', 'h', 'i', 'j', 'k', 'l', 'm', 'n', 'o', 'p', 'q', 'r', 's', 't', 'u', 'v', 'x', 'y', 'z', 'w']\n"
     ]
    }
   ],
   "source": [
    "upper=\"ABCDEFGHIJKLMNOPQRSTUVXYZW\"\n",
    "lower = upper.lower()\n",
    "upper_list = [upper[i:i+1] for i in range(0,len(upper))]\n",
    "lower_list = [lower[i:i+1] for i in range(0,len(lower))]\n",
    "\n",
    "\n",
    "\n",
    "print upper_list\n",
    "print lower_list"
   ]
  },
  {
   "cell_type": "code",
   "execution_count": 17,
   "metadata": {},
   "outputs": [
    {
     "name": "stdout",
     "output_type": "stream",
     "text": [
      "s는 \"a B z\", n은 4인 경우: e f c\n"
     ]
    }
   ],
   "source": [
    "def caesar(s, n):\n",
    "    \n",
    "    s = list(s)\n",
    "    for i , char in enumerate(s):\n",
    "        if char in lower_list:\n",
    "            position = (lower_list.index(char)+n)%26\n",
    "            s[i] = lower_list[position]\n",
    "        elif char in upper_list:\n",
    "            position = (upper_list.index(char)+n)%26\n",
    "            s[i]=lower_list[position]\n",
    "        \n",
    "    return ''.join(s)\n",
    "\n",
    "\n",
    "print('s는 \"a B z\", n은 4인 경우: '+ caesar(\"a B z\", 4))"
   ]
  },
  {
   "cell_type": "code",
   "execution_count": 14,
   "metadata": {
    "collapsed": true
   },
   "outputs": [],
   "source": [
    "a=\"apple\""
   ]
  },
  {
   "cell_type": "code",
   "execution_count": 15,
   "metadata": {},
   "outputs": [
    {
     "data": {
      "text/plain": [
       "['a', 'p', 'p', 'l', 'e']"
      ]
     },
     "execution_count": 15,
     "metadata": {},
     "output_type": "execute_result"
    }
   ],
   "source": [
    "list(a)"
   ]
  },
  {
   "cell_type": "code",
   "execution_count": 19,
   "metadata": {},
   "outputs": [],
   "source": [
    "j=[ 'g' , 'K', 'L']"
   ]
  },
  {
   "cell_type": "code",
   "execution_count": 21,
   "metadata": {},
   "outputs": [
    {
     "name": "stdout",
     "output_type": "stream",
     "text": [
      "0 g\n",
      "1 K\n",
      "2 L\n"
     ]
    }
   ],
   "source": [
    "for i, char in enumerate(j):\n",
    "    print i,char"
   ]
  },
  {
   "cell_type": "code",
   "execution_count": null,
   "metadata": {
    "collapsed": true
   },
   "outputs": [],
   "source": []
  }
 ],
 "metadata": {
  "kernelspec": {
   "display_name": "Python 2",
   "language": "python",
   "name": "python2"
  },
  "language_info": {
   "codemirror_mode": {
    "name": "ipython",
    "version": 2
   },
   "file_extension": ".py",
   "mimetype": "text/x-python",
   "name": "python",
   "nbconvert_exporter": "python",
   "pygments_lexer": "ipython2",
   "version": "2.7.14"
  }
 },
 "nbformat": 4,
 "nbformat_minor": 2
}
