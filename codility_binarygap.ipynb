{
 "cells": [
  {
   "cell_type": "code",
   "execution_count": 1,
   "metadata": {
    "collapsed": true
   },
   "outputs": [],
   "source": [
    "# you can write to stdout for debugging purposes, e.g.\n",
    "# print(\"this is a debug message\")\n",
    "\n",
    "def solution(N):\n",
    "    # write your code in Python 3.6\n",
    "    max_gap = 0\n",
    "    current_gap = 0\n",
    "\n",
    "    while N > 0 and N % 2 == 0:\n",
    "        N //= 2\n",
    "#         N//2 =N\n",
    "    while N > 0:\n",
    "        remainder = N % 2\n",
    "        if remainder == 0:\n",
    "            current_gap += 1\n",
    "        # 2로 나누어 떨어지면 0의 갯수 하나증가\n",
    "        else:\n",
    "            if current_gap != 0:\n",
    "                max_gap = max(current_gap, max_gap)\n",
    "                current_gap = 0\n",
    "        # 0으로 나누어떨어지지 않으면 비교우위를 최대갭으로\n",
    "        # 현재갭을 0으로\n",
    "        N //= 2\n",
    "        # 진법전환 할 때 2로 나눈 몫이 그 자릿 수가 되므로 그 과정을 나타냄\n",
    "    return max_gap"
   ]
  },
  {
   "cell_type": "code",
   "execution_count": 2,
   "metadata": {},
   "outputs": [
    {
     "data": {
      "text/plain": [
       "4"
      ]
     },
     "execution_count": 2,
     "metadata": {},
     "output_type": "execute_result"
    }
   ],
   "source": [
    "solution(289)"
   ]
  },
  {
   "cell_type": "code",
   "execution_count": null,
   "metadata": {
    "collapsed": true
   },
   "outputs": [],
   "source": []
  }
 ],
 "metadata": {
  "kernelspec": {
   "display_name": "Python 3",
   "language": "python",
   "name": "python3"
  },
  "language_info": {
   "codemirror_mode": {
    "name": "ipython",
    "version": 3
   },
   "file_extension": ".py",
   "mimetype": "text/x-python",
   "name": "python",
   "nbconvert_exporter": "python",
   "pygments_lexer": "ipython3",
   "version": "3.6.2"
  }
 },
 "nbformat": 4,
 "nbformat_minor": 2
}
